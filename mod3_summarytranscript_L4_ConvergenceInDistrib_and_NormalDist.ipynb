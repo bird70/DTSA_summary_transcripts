{
 "cells": [
  {
   "cell_type": "markdown",
   "metadata": {},
   "source": [
    "# Mod3/L4 Convergence in Distribution and Normal Distribution Properties\n",
    "\n",
    "## Introduction\n",
    "In this lesson, we cover convergence in distribution and review properties of the normal distribution. We'll also explore what it means for a random variable to be \"Asymptotically\" normal.\n",
    "\n",
    "## Key Topics\n",
    "\n",
    "### 1. Linear Combinations of Normal Distributions\n",
    "- Any linear combination of normal random variables is normal\n",
    "- Variables don't need to be independent or identically distributed\n",
    "- Linear transformations of normal variables remain normal\n",
    "\n",
    "### 2. Standard Normal Distribution\n",
    "- For X ~ N(μ, σ²), Z = (X - μ)/σ follows N(0,1)\n",
    "- Standard normal CDF denoted by Φ\n",
    "- Probability calculations using software (e.g., R's pnorm function)\n",
    "\n",
    "### 3. Convergence in Distribution\n",
    "- Sequence of random variables X₁, X₂, X₃, ... with CDFs F₁, F₂, F₃, ...\n",
    "- Convergence occurs when CDFs converge to target CDF\n",
    "- Weaker form of convergence than convergence in probability\n",
    "\n",
    "### 4. Central Limit Theorem\n",
    "- For IID random variables with mean μ and variance σ²\n",
    "- Sample mean becomes approximately normal for large n\n",
    "- Generally reliable for n > 30\n",
    "- Asymptotic normality with mean μ and variance σ²/n\n",
    "\n",
    "## Practical Applications\n",
    "1. Finding probabilities for normal distributions\n",
    "2. Standardizing non-standard normal variables\n",
    "3. Working with sample means\n",
    "4. Applying the Central Limit Theorem\n",
    "\n",
    "## Key Formulas\n",
    "- Standardization: Z = (X - μ)/σ\n",
    "- Sample Mean Asymptotic Distribution: X̄ ~ N(μ, σ²/n) for large n\n",
    "- Probability calculations using standard normal tables or software"
   ]
  },
  {
   "cell_type": "markdown",
   "metadata": {},
   "source": []
  },
  {
   "cell_type": "markdown",
   "metadata": {},
   "source": [
    "## Next Lesson\n",
    "\n",
    "(refer to [mod3_summarytranscript_L5_MLE_MaxLikelihood.ipynb](mod3_summarytranscript_L5_MLE_MaxLikelihood.ipynb))\n"
   ]
  },
  {
   "cell_type": "markdown",
   "metadata": {},
   "source": []
  }
 ],
 "metadata": {
  "language_info": {
   "name": "python"
  }
 },
 "nbformat": 4,
 "nbformat_minor": 2
}
