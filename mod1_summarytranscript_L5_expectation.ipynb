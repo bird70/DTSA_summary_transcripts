{
 "cells": [
  {
   "cell_type": "markdown",
   "metadata": {},
   "source": [
    "# Mod1/L5 Expectation (Expected Value or Mean)\n",
    "\n",
    "## Introduction\n",
    "The expectation (or expected value or mean) of a random variable is a probability-weighted average of the values in the distribution. This concept is fundamental in probability and statistics.\n",
    "\n",
    "## Discrete Case\n",
    "\n",
    "### Example: Simple Discrete Distribution\n",
    "Suppose \\(X\\) takes on the values 1, 2, and 3 with probabilities $(\\frac{1}{4})$, $(\\frac{1}{4})$, and $(\\frac{1}{2}$), respectively.\n",
    "\n",
    "#### Calculation of Expected Value\n",
    "The expected value \\(E(X)\\) is calculated as:\n",
    "$$[ E(X) = \\sum x \\cdot P(X = x) ]$$\n",
    "$$[ E(X) = 1 \\cdot \\frac{1}{4} + 2 \\cdot \\frac{1}{4} + 3 \\cdot \\frac{1}{2} = 2.25 ]$$\n",
    "\n",
    "### General Formula for Discrete Random Variables\n",
    "For a discrete random variable \\(X\\) with probability mass function (PMF) $(f(x))$:\n",
    "$$[ E(X) = \\sum x \\cdot f(x) ]$$\n",
    "\n",
    "## Continuous Case\n",
    "\n",
    "### General Formula for Continuous Random Variables\n",
    "For a continuous random variable \\(X\\) with probability density function (PDF) $(f(x)$):\n",
    "$$[ E(X) = \\int_{-\\infty}^{\\infty} x \\cdot f(x) \\, dx ]$$\n",
    "\n",
    "### Example: Normal Distribution\n",
    "Suppose $(X \\sim N(\\mu, \\sigma^2)$). The expected value of $(X)$ is:\n",
    "$$[ E(X) = \\mu ]$$\n",
    "\n",
    "### Example: Exponential Distribution\n",
    "Suppose $(X \\sim \\text{Exponential}(\\lambda))$. The expected value of $(X)$ is:\n",
    "$[ E(X) = \\frac{1}{\\lambda} ]$\n",
    "\n",
    "## R Examples\n",
    "\n",
    "### Example 1: Discrete Distribution\n",
    "```r\n",
    "# Define the values and probabilities\n",
    "values <- c(1, 2, 3)\n",
    "probabilities <- c(1/4, 1/4, 1/2)\n",
    "\n",
    "# Calculate the expected value\n",
    "expected_value <- sum(values * probabilities)\n",
    "cat(sprintf(\"Expected Value: %.2f\\n\", expected_value))"
   ]
  },
  {
   "cell_type": "markdown",
   "metadata": {},
   "source": [
    "### Example 2: Normal Distribution"
   ]
  },
  {
   "cell_type": "code",
   "execution_count": 3,
   "metadata": {
    "vscode": {
     "languageId": "r"
    }
   },
   "outputs": [
    {
     "name": "stdout",
     "output_type": "stream",
     "text": [
      "Sample Mean: 0.02\n"
     ]
    }
   ],
   "source": [
    "# Parameters\n",
    "mu <- 0\n",
    "sigma <- 1\n",
    "\n",
    "# Generate a random sample from Normal distribution\n",
    "set.seed(123)\n",
    "sample_data <- rnorm(1000, mean = mu, sd = sigma)\n",
    "\n",
    "# Calculate the sample mean\n",
    "sample_mean <- mean(sample_data)\n",
    "cat(sprintf(\"Sample Mean: %.2f\\n\", sample_mean))"
   ]
  },
  {
   "cell_type": "markdown",
   "metadata": {
    "vscode": {
     "languageId": "plaintext"
    }
   },
   "source": [
    "### Example 3: Exponential Distribution"
   ]
  },
  {
   "cell_type": "code",
   "execution_count": null,
   "metadata": {
    "vscode": {
     "languageId": "r"
    }
   },
   "outputs": [],
   "source": [
    "# Parameter\n",
    "lambda <- 1\n",
    "\n",
    "# Generate a random sample from Exponential distribution\n",
    "set.seed(123)\n",
    "sample_data <- rexp(1000, rate = lambda)\n",
    "\n",
    "# Calculate the sample mean\n",
    "sample_mean <- mean(sample_data)\n",
    "cat(sprintf(\"Sample Mean: %.2f\\n\", sample_mean))"
   ]
  },
  {
   "cell_type": "markdown",
   "metadata": {},
   "source": [
    "## Conclusion\n",
    "The expectation or expected value is a fundamental concept in probability and statistics, representing the average outcome of a random variable. It can be calculated for both discrete and continuous distributions using the appropriate formulas. Understanding and calculating the expected value is crucial for statistical analysis and decision-making.\n",
    "\n",
    "This concludes the lesson on expectation. In the next lesson, we will explore more advanced topics in statistical inference. \n"
   ]
  },
  {
   "cell_type": "markdown",
   "metadata": {},
   "source": []
  }
 ],
 "metadata": {
  "kernelspec": {
   "display_name": "R",
   "language": "R",
   "name": "ir"
  },
  "language_info": {
   "codemirror_mode": "r",
   "file_extension": ".r",
   "mimetype": "text/x-r-source",
   "name": "R",
   "pygments_lexer": "r",
   "version": "4.4.1"
  }
 },
 "nbformat": 4,
 "nbformat_minor": 2
}
