{
 "cells": [
  {
   "cell_type": "markdown",
   "metadata": {},
   "source": [
    "# Mod 4 - L1: Confidence Intervals for Normal Distribution\n",
    "\n",
    "## Key Concepts\n",
    "\n",
    "### 1. Setup and Assumptions\n",
    "- Random sample of size n from normal distribution\n",
    "- Mean μ is unknown \n",
    "- Variance σ² is known (temporary assumption)\n",
    "\n",
    "### 2. Process for Creating Confidence Interval\n",
    "1. Use x̄ as estimator for μ\n",
    "2. Distribution of x̄ is normal with:\n",
    "   - Mean = μ\n",
    "   - Variance = σ²/n\n",
    "3. Standardize to get z-score: z = (x̄ - μ)/(σ/√n)\n",
    "4. Find critical values for desired confidence level\n",
    "\n",
    "### 3. Formula\n",
    "- General form: x̄ ± zα/2(σ/√n)\n",
    "- For 95% confidence: x̄ ± 1.96(σ/√n)\n",
    "\n",
    "### 4. Critical Values\n",
    "- For confidence level 100(1-α)%:\n",
    "  - Area α/2 in each tail\n",
    "  - Use R command: qnorm(1-α/2)\n",
    "  - Example: For 95% CI, α=0.05, use qnorm(0.975) = 1.96\n",
    "\n",
    "### 5. Example\n",
    "Given:\n",
    "- n = 200 samples\n",
    "- x̄ = $36 (mean spending on organic produce)\n",
    "- σ² = $5 (known variance)\n",
    "- Desired: 90% confidence interval\n",
    "\n",
    "Solution:\n",
    "1. α = 0.10 (for 90% confidence)\n",
    "2. Critical value: qnorm(0.95) ≈ 1.645\n",
    "3. CI = 36 ± 1.645(√5/√200)\n",
    "4. Result: ($35.74, $36.26)\n",
    "\n",
    "### 6. Notes\n",
    "- Works for normal distributions directly\n",
    "- For non-normal: Use when n > 30 (Central Limit Theorem)\n",
    "- Symmetric intervals give shortest length\n",
    "- Assumption of known variance is temporary"
   ]
  },
  {
   "cell_type": "markdown",
   "metadata": {},
   "source": []
  }
 ],
 "metadata": {
  "kernelspec": {
   "display_name": "R",
   "language": "R",
   "name": "ir"
  },
  "language_info": {
   "name": "R"
  }
 },
 "nbformat": 4,
 "nbformat_minor": 2
}
