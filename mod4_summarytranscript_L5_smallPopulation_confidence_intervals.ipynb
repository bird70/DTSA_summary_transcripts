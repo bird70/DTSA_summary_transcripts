{
 "cells": [
  {
   "cell_type": "markdown",
   "metadata": {},
   "source": [
    "# Mod4/L5: Small Population Confidence Intervals for Differences in Means\n",
    "\n",
    "## Introduction\n",
    "In this lesson, we discuss confidence intervals for the difference between means of two different populations, focusing on small sample sizes.\n",
    "\n",
    "## Assumptions\n",
    "1. Populations have normal distributions.\n",
    "2. Variances are unknown.\n",
    "3. At least one of the sample sizes is small (≤ 30).\n",
    "\n",
    "## Setup\n",
    "- **Sample 1**: Size $n_1$, from $N(\\mu_1, \\sigma_1^2)$\n",
    "- **Sample 2**: Size $n_2$, from $N(\\mu_2, \\sigma_2^2)$\n",
    "- Samples are independent.\n",
    "\n",
    "## Steps to Find Confidence Interval\n",
    "\n",
    "### Step 1: Estimator\n",
    "A natural estimator for $\\mu_1 - \\mu_2$ is $\\bar{X}_1 - \\bar{X}_2$:\n",
    "$$ \\bar{X}_1 = \\frac{1}{n_1} \\sum_{i=1}^{n_1} X_{1i} $$\n",
    "$$ \\bar{X}_2 = \\frac{1}{n_2} \\sum_{i=1}^{n_2} X_{2i} $$\n",
    "\n",
    "### Step 2: Distribution of Estimator\n",
    "- $\\bar{X}_1 \\sim N(\\mu_1, \\frac{\\sigma_1^2}{n_1})$\n",
    "- $\\bar{X}_2 \\sim N(\\mu_2, \\frac{\\sigma_2^2}{n_2})$\n",
    "- $\\bar{X}_1 - \\bar{X}_2 \\sim N(\\mu_1 - \\mu_2, \\frac{\\sigma_1^2}{n_1} + \\frac{\\sigma_2^2}{n_2})$\n",
    "\n",
    "### Step 3: Standardization\n",
    "Standardize the estimator to a Z-score:\n",
    "$$ Z = \\frac{(\\bar{X}_1 - \\bar{X}_2) - (\\mu_1 - \\mu_2)}{\\sqrt{\\frac{\\sigma_1^2}{n_1} + \\frac{\\sigma_2^2}{n_2}}} \\sim N(0,1) $$\n",
    "\n",
    "### Step 4: Confidence Interval\n",
    "For a $(1-\\alpha)100\\%$ confidence interval:\n",
    "$$ (\\bar{X}_1 - \\bar{X}_2) \\pm Z_{\\alpha/2} \\sqrt{\\frac{\\sigma_1^2}{n_1} + \\frac{\\sigma_2^2}{n_2}} $$\n",
    "\n",
    "## Example\n",
    "### Problem\n",
    "- **Group 1**: 9 samples, mean = 23.2, variance = 4.3\n",
    "- **Group 2**: 8 samples, mean = 24.7, variance = 5.2\n",
    "- Find a 90% confidence interval for the difference in means.\n",
    "\n",
    "### Solution\n",
    "1. **Calculate Pooled Variance**:\n",
    "   $$ S_p^2 = \\frac{(n_1 - 1)S_1^2 + (n_2 - 1)S_2^2}{n_1 + n_2 - 2} $$\n",
    "   $$ S_p^2 = \\frac{(9 - 1)4.3 + (8 - 1)5.2}{9 + 8 - 2} = 4.72 $$\n",
    "\n",
    "2. **Calculate Critical Value**:\n",
    "   - For 90% CI, $\\alpha = 0.10$\n",
    "   - Degrees of freedom = $n_1 + n_2 - 2 = 15$\n",
    "   - $t_{\\alpha/2, df} = t_{0.05, 15} = 1.753$\n",
    "\n",
    "3. **Apply Formula**:\n",
    "   $$ (\\bar{X}_1 - \\bar{X}_2) \\pm t_{\\alpha/2, df} \\sqrt{S_p^2 \\left(\\frac{1}{n_1} + \\frac{1}{n_2}\\right)} $$\n",
    "   - Point estimate: $23.2 - 24.7 = -1.5$\n",
    "   - Margin of error: $1.753 \\times \\sqrt{4.72 \\left(\\frac{1}{9} + \\frac{1}{8}\\right)} \\approx 1.753 \\times 1.09 \\approx 1.91$\n",
    "   - Confidence interval: $-1.5 \\pm 1.91 = (-3.41, 0.41)$\n",
    "\n",
    "### Interpretation\n",
    "The 90% confidence interval for the difference in means is (-3.41, 0.41). Since the interval includes 0, it is plausible that the means are equal. (This is a form of hypothesis test).\n",
    "\n",
    "## Conclusion\n",
    "- Confidence intervals provide a range of plausible values for the difference in means.\n",
    "- For small samples, we use the t-distribution.\n",
    "- Assumptions about equal variances can simplify calculations but may not always be valid.\n",
    "- Welch's approximation can be used when variances are not assumed equal.\n",
    "\n",
    "## Welch's Approximation\n",
    "When variances are not assumed equal, use Welch's approximation:\n",
    "$$ \\nu = \\frac{\\left(\\frac{S_1^2}{n_1} + \\frac{S_2^2}{n_2}\\right)^2}{\\frac{\\left(\\frac{S_1^2}{n_1}\\right)^2}{n_1 - 1} + \\frac{\\left(\\frac{S_2^2}{n_2}\\right)^2}{n_2 - 1}} $$\n",
    "\n",
    "### Example in R\n",
    "```r\n",
    "# Simulate data\n",
    "set.seed(123)\n",
    "x <- rnorm(10)\n",
    "y <- rnorm(14)\n",
    "\n",
    "# Perform t-test\n",
    "t.test(x, y, conf.level = 0.90)"
   ]
  },
  {
   "cell_type": "code",
   "execution_count": 6,
   "metadata": {
    "vscode": {
     "languageId": "r"
    }
   },
   "outputs": [
    {
     "data": {
      "text/plain": [
       "\n",
       "\tWelch Two Sample t-test\n",
       "\n",
       "data:  x and y\n",
       "t = 0.35532, df = 20.032, p-value = 0.7261\n",
       "alternative hypothesis: true difference in means is not equal to 0\n",
       "90 percent confidence interval:\n",
       " -0.5503036  0.8359084\n",
       "sample estimates:\n",
       "  mean of x   mean of y \n",
       " 0.07462564 -0.06817676 \n"
      ]
     },
     "metadata": {},
     "output_type": "display_data"
    }
   ],
   "source": [
    "# Simulate data\n",
    "set.seed(123)\n",
    "\n",
    "x <- rnorm(10)\n",
    "y <- rnorm(14)\n",
    "\n",
    "# Perform t-test\n",
    "t.test(x, y, conf.level = 0.90)"
   ]
  },
  {
   "cell_type": "markdown",
   "metadata": {},
   "source": [
    "## t-critical value: Looking up \n",
    "use R for looking up t-critical value\n",
    "```r\n",
    "qt(p=0.05,df=15)"
   ]
  },
  {
   "cell_type": "code",
   "execution_count": 4,
   "metadata": {
    "vscode": {
     "languageId": "r"
    }
   },
   "outputs": [
    {
     "data": {
      "text/html": [
       "1.75305035569257"
      ],
      "text/latex": [
       "1.75305035569257"
      ],
      "text/markdown": [
       "1.75305035569257"
      ],
      "text/plain": [
       "[1] 1.75305"
      ]
     },
     "metadata": {},
     "output_type": "display_data"
    }
   ],
   "source": [
    "qt(0.05,15, lower.tail = FALSE)"
   ]
  },
  {
   "cell_type": "markdown",
   "metadata": {},
   "source": []
  }
 ],
 "metadata": {
  "kernelspec": {
   "display_name": "R",
   "language": "R",
   "name": "ir"
  },
  "language_info": {
   "codemirror_mode": "r",
   "file_extension": ".r",
   "mimetype": "text/x-r-source",
   "name": "R",
   "pygments_lexer": "r",
   "version": "4.4.1"
  }
 },
 "nbformat": 4,
 "nbformat_minor": 2
}
