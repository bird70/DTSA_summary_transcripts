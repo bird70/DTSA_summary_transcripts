{
 "cells": [
  {
   "cell_type": "markdown",
   "metadata": {
    "vscode": {
     "languageId": "r"
    }
   },
   "source": [
    "# Mod2/L1 Maximum Likelihood Estimation (MLE)\n",
    "\n",
    "## Introduction\n",
    "In this module, we explore Maximum Likelihood Estimation (MLE), a fundamental method for estimating parameters of a population distribution based on sample data. MLE is widely used in real-world applications due to its versatility and effectiveness.\n",
    "\n",
    "## Motivation\n",
    "MLE aims to find the parameter value that makes the observed data most likely. Given a population with a distribution and an unknown parameter $(\\theta)$, we take a random sample $(X_1, X_2, \\ldots, X_n)$ and use this sample to estimate $(\\theta)$.\n",
    "\n",
    "## Example: Coin Flipping\n",
    "\n",
    "### Scenario\n",
    "Suppose we have a biased coin that comes up heads with probability \\(p\\) and tails with probability \\(1 - p\\). The parameter \\(p\\) is unknown, and we want to estimate it. For simplicity, assume \\(p\\) can take on only three possible values: 0.2, 0.3, or 0.8.\n",
    "\n",
    "### Observed Data\n",
    "We flip the coin 20 times and observe the following sequence:\n",
    "$[ \\text{Heads, Heads, Tails, Tails, Heads, Heads, Heads, Heads, Tails, Heads, Heads, Heads, Heads, Heads, Tails, Tails, Heads, Heads, Heads, Tails} ]$\n",
    "\n",
    "### Likelihood Calculation\n",
    "To determine which value of \\(p\\) is most likely, we calculate the likelihood of observing the given data for each possible value of \\(p\\).\n",
    "\n",
    "#### Example in R\n",
    "```r\n",
    "# Possible values of p\n",
    "p_values <- c(0.2, 0.3, 0.8)\n",
    "\n",
    "# Observed data: 1 for heads, 0 for tails\n",
    "observed_data <- c(1, 1, 0, 0, 1, 1, 1, 1, 0, 1, 1, 1, 1, 1, 0, 0, 1, 1, 1, 0)\n",
    "\n",
    "# Function to calculate likelihood\n",
    "calculate_likelihood <- function(p, data) {\n",
    "  n_heads <- sum(data)\n",
    "  n_tails <- length(data) - n_heads\n",
    "  likelihood <- p^n_heads * (1 - p)^n_tails\n",
    "  return(likelihood)\n",
    "}\n",
    "\n",
    "# Calculate likelihood for each p value\n",
    "likelihoods <- sapply(p_values, calculate_likelihood, data = observed_data)\n",
    "names(likelihoods) <- p_values\n",
    "likelihoods\n",
    "\n",
    "# Determine the p value with the highest likelihood\n",
    "best_p <- p_values[which.max(likelihoods)]\n",
    "cat(sprintf(\"The most likely value of p is: %.1f\\n\", best_p))"
   ]
  },
  {
   "cell_type": "code",
   "execution_count": 2,
   "metadata": {
    "vscode": {
     "languageId": "r"
    }
   },
   "outputs": [
    {
     "data": {
      "text/html": [
       "<style>\n",
       ".dl-inline {width: auto; margin:0; padding: 0}\n",
       ".dl-inline>dt, .dl-inline>dd {float: none; width: auto; display: inline-block}\n",
       ".dl-inline>dt::after {content: \":\\0020\"; padding-right: .5ex}\n",
       ".dl-inline>dt:not(:first-of-type) {padding-left: .5ex}\n",
       "</style><dl class=dl-inline><dt>0.2</dt><dd>4.294967296e-11</dd><dt>0.3</dt><dd>5.62711519880999e-09</dd><dt>0.8</dt><dd>2.81474976710656e-06</dd></dl>\n"
      ],
      "text/latex": [
       "\\begin{description*}\n",
       "\\item[0.2] 4.294967296e-11\n",
       "\\item[0.3] 5.62711519880999e-09\n",
       "\\item[0.8] 2.81474976710656e-06\n",
       "\\end{description*}\n"
      ],
      "text/markdown": [
       "0.2\n",
       ":   4.294967296e-110.3\n",
       ":   5.62711519880999e-090.8\n",
       ":   2.81474976710656e-06\n",
       "\n"
      ],
      "text/plain": [
       "         0.2          0.3          0.8 \n",
       "4.294967e-11 5.627115e-09 2.814750e-06 "
      ]
     },
     "metadata": {},
     "output_type": "display_data"
    },
    {
     "name": "stdout",
     "output_type": "stream",
     "text": [
      "The most likely value of p is: 0.8\n"
     ]
    }
   ],
   "source": [
    "# Possible values of p\n",
    "p_values <- c(0.2, 0.3, 0.8)\n",
    "\n",
    "# Observed data: 1 for heads, 0 for tails\n",
    "observed_data <- c(1, 1, 0, 0, 1, 1, 1, 1, 0, 1, 1, 1, 1, 1, 0, 0, 1, 1, 1, 0)\n",
    "\n",
    "# Function to calculate likelihood\n",
    "calculate_likelihood <- function(p, data) {\n",
    "  n_heads <- sum(data)\n",
    "  n_tails <- length(data) - n_heads\n",
    "  likelihood <- p^n_heads * (1 - p)^n_tails\n",
    "  return(likelihood)\n",
    "}\n",
    "\n",
    "# Calculate likelihood for each p value\n",
    "likelihoods <- sapply(p_values, calculate_likelihood, data = observed_data)\n",
    "names(likelihoods) <- p_values\n",
    "likelihoods\n",
    "\n",
    "# Determine the p value with the highest likelihood\n",
    "best_p <- p_values[which.max(likelihoods)]\n",
    "cat(sprintf(\"The most likely value of p is: %.1f\\n\", best_p))"
   ]
  },
  {
   "cell_type": "markdown",
   "metadata": {},
   "source": [
    "### Simplified Example with Two Flips\n",
    "Suppose we only flip the coin twice and observe the following sequences:\n",
    "\n",
    "-Sequence 1: Heads, Heads\n",
    "\n",
    "-Sequence 2: Heads, Tails\n",
    "\n",
    "-Sequence 3: Tails, Tails\n",
    "\n",
    "#### Likelihood Calculation for Two Flips"
   ]
  },
  {
   "cell_type": "code",
   "execution_count": 3,
   "metadata": {
    "vscode": {
     "languageId": "r"
    }
   },
   "outputs": [
    {
     "name": "stdout",
     "output_type": "stream",
     "text": [
      "The most likely value of p for sequence 1 (Heads, Heads) is: 0.8\n",
      "The most likely value of p for sequence 2 (Heads, Tails) is: 0.3\n",
      "The most likely value of p for sequence 3 (Tails, Tails) is: 0.2\n"
     ]
    }
   ],
   "source": [
    "# Observed data for two flips\n",
    "observed_data_1 <- c(1, 1)  # Heads, Heads\n",
    "observed_data_2 <- c(1, 0)  # Heads, Tails\n",
    "observed_data_3 <- c(0, 0)  # Tails, Tails\n",
    "\n",
    "# Calculate likelihood for each sequence\n",
    "likelihoods_1 <- sapply(p_values, calculate_likelihood, data = observed_data_1)\n",
    "likelihoods_2 <- sapply(p_values, calculate_likelihood, data = observed_data_2)\n",
    "likelihoods_3 <- sapply(p_values, calculate_likelihood, data = observed_data_3)\n",
    "\n",
    "# Determine the p value with the highest likelihood for each sequence\n",
    "best_p_1 <- p_values[which.max(likelihoods_1)]\n",
    "best_p_2 <- p_values[which.max(likelihoods_2)]\n",
    "best_p_3 <- p_values[which.max(likelihoods_3)]\n",
    "\n",
    "cat(sprintf(\"The most likely value of p for sequence 1 (Heads, Heads) is: %.1f\\n\", best_p_1))\n",
    "cat(sprintf(\"The most likely value of p for sequence 2 (Heads, Tails) is: %.1f\\n\", best_p_2))\n",
    "cat(sprintf(\"The most likely value of p for sequence 3 (Tails, Tails) is: %.1f\\n\", best_p_3))"
   ]
  },
  {
   "cell_type": "markdown",
   "metadata": {
    "vscode": {
     "languageId": "r"
    }
   },
   "source": [
    "## Conclusion\n",
    "-When the data is 0,0, the most likely value of (p) is 0.2.\n",
    "\n",
    "-When the data is 0,1 or 1,0, the most likely value of (p) is 0.3.\n",
    "\n",
    "-When the data is 1,1, the most likely value of (p) is 0.8.\n",
    "\n",
    "## Summary\n",
    "Maximum Likelihood Estimation (MLE) is a powerful method for estimating parameters of a population distribution. By calculating the likelihood of observed data for different parameter values, we can identify the parameter value that makes the data most likely. This method is widely applicable and forms the basis for many statistical analyses.\n",
    "\n",
    "This concludes the introduction to MLE. In the next lessons (next up (refer to [mod2_summarytranscript_L2_Formalizing_MLEs.ipynb](mod2_summarytranscript_L2_Formalizing_MLEs.ipynb))), we will explore more advanced topics and applications of MLE in statistical inference."
   ]
  },
  {
   "cell_type": "code",
   "execution_count": null,
   "metadata": {
    "vscode": {
     "languageId": "r"
    }
   },
   "outputs": [],
   "source": []
  }
 ],
 "metadata": {
  "kernelspec": {
   "display_name": "R",
   "language": "R",
   "name": "ir"
  },
  "language_info": {
   "codemirror_mode": "r",
   "file_extension": ".r",
   "mimetype": "text/x-r-source",
   "name": "R",
   "pygments_lexer": "r",
   "version": "4.4.1"
  }
 },
 "nbformat": 4,
 "nbformat_minor": 2
}
