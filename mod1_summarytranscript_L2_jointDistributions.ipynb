{
 "cells": [
  {
   "cell_type": "markdown",
   "metadata": {},
   "source": [
    "# Mod1/L2 Joint Distributions\n",
    "\n",
    "## Introduction\n",
    "Joint distributions describe the probability of two or more random variables occurring simultaneously. This can be represented using joint probability mass functions (PMFs) for discrete variables or joint probability density functions (PDFs) for continuous variables.\n",
    "\n",
    "## Discrete Joint Distributions\n",
    "\n",
    "### Joint Probability Mass Function (PMF)\n",
    "- The joint PMF of discrete random variables X and Y is denoted as $P(X = x, Y = y)$.\n",
    "- Example: If X can take values {1, 2, 3} and Y can take values {5, 11}, the joint PMF can be represented in a table.\n",
    "\n",
    "### Marginal Probability\n",
    "- Marginal probability is the probability of a single variable irrespective of the other variable.\n",
    "- Example: $P(X = 1)$ is found by summing the joint probabilities over all values of Y.\n",
    "\n",
    "### Example in R\n",
    "```r\n",
    "# Joint PMF table\n",
    "joint_pmf <- matrix(c(0.2, 0.15, 0.1, 0.05, 0.3, 0.2), nrow = 3, byrow = TRUE)\n",
    "rownames(joint_pmf) <- c(\"X=1\", \"X=2\", \"X=3\")\n",
    "colnames(joint_pmf) <- c(\"Y=5\", \"Y=11\")\n",
    "joint_pmf\n",
    "\n",
    "# Marginal probability for X=1\n",
    "P_X1 <- sum(joint_pmf[\"X=1\", ])\n",
    "P_X1"
   ]
  },
  {
   "cell_type": "code",
   "execution_count": 2,
   "metadata": {
    "vscode": {
     "languageId": "r"
    }
   },
   "outputs": [
    {
     "data": {
      "text/html": [
       "<table class=\"dataframe\">\n",
       "<caption>A matrix: 3 x 2 of type dbl</caption>\n",
       "<thead>\n",
       "\t<tr><th></th><th scope=col>Y=5</th><th scope=col>Y=11</th></tr>\n",
       "</thead>\n",
       "<tbody>\n",
       "\t<tr><th scope=row>X=1</th><td>0.2</td><td>0.15</td></tr>\n",
       "\t<tr><th scope=row>X=2</th><td>0.1</td><td>0.05</td></tr>\n",
       "\t<tr><th scope=row>X=3</th><td>0.3</td><td>0.20</td></tr>\n",
       "</tbody>\n",
       "</table>\n"
      ],
      "text/latex": [
       "A matrix: 3 x 2 of type dbl\n",
       "\\begin{tabular}{r|ll}\n",
       "  & Y=5 & Y=11\\\\\n",
       "\\hline\n",
       "\tX=1 & 0.2 & 0.15\\\\\n",
       "\tX=2 & 0.1 & 0.05\\\\\n",
       "\tX=3 & 0.3 & 0.20\\\\\n",
       "\\end{tabular}\n"
      ],
      "text/markdown": [
       "\n",
       "A matrix: 3 x 2 of type dbl\n",
       "\n",
       "| <!--/--> | Y=5 | Y=11 |\n",
       "|---|---|---|\n",
       "| X=1 | 0.2 | 0.15 |\n",
       "| X=2 | 0.1 | 0.05 |\n",
       "| X=3 | 0.3 | 0.20 |\n",
       "\n"
      ],
      "text/plain": [
       "    Y=5 Y=11\n",
       "X=1 0.2 0.15\n",
       "X=2 0.1 0.05\n",
       "X=3 0.3 0.20"
      ]
     },
     "metadata": {},
     "output_type": "display_data"
    },
    {
     "data": {
      "text/html": [
       "0.35"
      ],
      "text/latex": [
       "0.35"
      ],
      "text/markdown": [
       "0.35"
      ],
      "text/plain": [
       "[1] 0.35"
      ]
     },
     "metadata": {},
     "output_type": "display_data"
    }
   ],
   "source": [
    "# Joint PMF table\n",
    "joint_pmf <- matrix(c(0.2, 0.15, 0.1, 0.05, 0.3, 0.2), nrow = 3, byrow = TRUE)\n",
    "rownames(joint_pmf) <- c(\"X=1\", \"X=2\", \"X=3\")\n",
    "colnames(joint_pmf) <- c(\"Y=5\", \"Y=11\")\n",
    "joint_pmf\n",
    "\n",
    "# Marginal probability for X=1\n",
    "P_X1 <- sum(joint_pmf[\"X=1\", ])\n",
    "P_X1"
   ]
  },
  {
   "cell_type": "markdown",
   "metadata": {},
   "source": [
    "## Continuous Joint Distributions\n",
    "### Joint Probability Density Function (PDF)\n",
    "\n",
    "\n",
    "The joint PDF of continuous random variables X and Y is denoted as $f(x, y)$.\n",
    "\n",
    "The probability that X is between a and b, and Y is between c and d is found by integrating the joint PDF over the region.\n",
    "\n",
    "### Marginal Probability Density Function\n",
    "\n",
    "Marginal PDF is found by integrating the joint PDF over the range of the other variable.\n",
    "\n",
    "Example: $f_X(x) = \\int_{-\\infty}^{\\infty} f(x, y) dy$\n"
   ]
  },
  {
   "cell_type": "code",
   "execution_count": 1,
   "metadata": {
    "vscode": {
     "languageId": "r"
    }
   },
   "outputs": [
    {
     "data": {
      "text/html": [
       "1.5"
      ],
      "text/latex": [
       "1.5"
      ],
      "text/markdown": [
       "1.5"
      ],
      "text/plain": [
       "[1] 1.5"
      ]
     },
     "metadata": {},
     "output_type": "display_data"
    },
    {
     "data": {
      "text/html": [
       "0.5"
      ],
      "text/latex": [
       "0.5"
      ],
      "text/markdown": [
       "0.5"
      ],
      "text/plain": [
       "[1] 0.5"
      ]
     },
     "metadata": {},
     "output_type": "display_data"
    }
   ],
   "source": [
    "# Define joint PDF\n",
    "joint_pdf <- function(x, y) {\n",
    "  ifelse(x >= 0 & x <= 1 & y >= 0 & y <= 1 & x < y, 8 * x * y, 0)\n",
    "}\n",
    "\n",
    "# Marginal PDF for X\n",
    "marginal_pdf_X <- function(x) {\n",
    "  integrate(function(y) joint_pdf(x, y), lower = x, upper = 1)$value\n",
    "}\n",
    "\n",
    "# Marginal PDF for Y\n",
    "marginal_pdf_Y <- function(y) {\n",
    "  integrate(function(x) joint_pdf(x, y), lower = 0, upper = y)$value\n",
    "}\n",
    "\n",
    "# Example calculation\n",
    "marginal_pdf_X(0.5)\n",
    "marginal_pdf_Y(0.5)"
   ]
  },
  {
   "cell_type": "markdown",
   "metadata": {},
   "source": [
    "## Independence\n",
    "Random variables X and Y are independent if their joint PDF factors into the product of their marginal PDFs.\n",
    "\n",
    "Example: If $f(x, y) = f_X(x) \\cdot f_Y(y)$, then X and Y are independent"
   ]
  },
  {
   "cell_type": "code",
   "execution_count": 2,
   "metadata": {
    "vscode": {
     "languageId": "r"
    }
   },
   "outputs": [
    {
     "data": {
      "text/html": [
       "TRUE"
      ],
      "text/latex": [
       "TRUE"
      ],
      "text/markdown": [
       "TRUE"
      ],
      "text/plain": [
       "[1] TRUE"
      ]
     },
     "metadata": {},
     "output_type": "display_data"
    }
   ],
   "source": [
    "# Define independent joint PDF\n",
    "independent_joint_pdf <- function(x, y) {\n",
    "  ifelse(x >= 0 & x <= 1 & y >= 0 & y <= 2, x * y, 0)\n",
    "}\n",
    "\n",
    "# Marginal PDFs\n",
    "marginal_pdf_X_indep <- function(x) {\n",
    "  integrate(function(y) independent_joint_pdf(x, y), lower = 0, upper = 2)$value\n",
    "}\n",
    "\n",
    "marginal_pdf_Y_indep <- function(y) {\n",
    "  integrate(function(x) independent_joint_pdf(x, y), lower = 0, upper = 1)$value\n",
    "}\n",
    "\n",
    "# Check independence\n",
    "product_marginals <- function(x, y) {\n",
    "  marginal_pdf_X_indep(x) * marginal_pdf_Y_indep(y)\n",
    "}\n",
    "\n",
    "# Example calculation\n",
    "independent_joint_pdf(0.5, 1) == product_marginals(0.5, 1)\n"
   ]
  },
  {
   "cell_type": "markdown",
   "metadata": {},
   "source": [
    "## Conclusion\n",
    "\n",
    "Joint distributions provide a comprehensive way to describe the relationship between two or more random variables. Understanding joint PMFs and PDFs, as well as marginal probabilities, is crucial for analyzing the behavior of multiple variables simultaneously. Independence simplifies the analysis by allowing the joint distribution to be factored into marginal distributions.\n",
    "\n",
    "This concludes the summary of joint distributions. In the next lesson, we will discuss the distribution of transformations of random variables"
   ]
  }
 ],
 "metadata": {
  "kernelspec": {
   "display_name": "R",
   "language": "R",
   "name": "ir"
  },
  "language_info": {
   "codemirror_mode": "r",
   "file_extension": ".r",
   "mimetype": "text/x-r-source",
   "name": "R",
   "pygments_lexer": "r",
   "version": "4.4.1"
  }
 },
 "nbformat": 4,
 "nbformat_minor": 2
}
