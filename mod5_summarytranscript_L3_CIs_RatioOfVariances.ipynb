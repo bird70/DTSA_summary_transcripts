{
 "cells": [
  {
   "cell_type": "markdown",
   "metadata": {
    "vscode": {
     "languageId": "r"
    }
   },
   "source": [
    "# Mod5/L3 Confidence Intervals for Ratios of Variances\n",
    "\n",
    "## Introduction\n",
    "In this video, we will discuss how to construct confidence intervals for the ratio of variances between two populations. This is useful for determining if the variances are equal.\n",
    "\n",
    "## Section 1: F-Distribution\n",
    "To create these confidence intervals, we use the F distribution. If $(X_1)$ and $(X_2)$ are independent ***chi-squared random variables*** with $(n_1)$ and $(n_2)$ degrees of freedom, respectively, then the ratio $(F = \\frac{(X_1/n_1)}{(X_2/n_2)})$ follows an F distribution with $(n_1)$ and $(n_2)$ degrees of freedom.\n",
    "\n",
    "### Properties of the F Distribution\n",
    "- The F distribution is non-negative.\n",
    "- The mean of the F distribution is $(\\frac{n_2}{n_2 - 2})$ if $(n_2 > 2)$.\n",
    "- The variance is more complex and valid if $(n_2 > 4)$.\n",
    "\n",
    "## Example: Ratio of Variances\n",
    "Suppose we have two independent random samples from normal distributions with means $(\\mu_1)$ and $(\\mu_2)$ and variances $(\\sigma_1^2)$ and $(\\sigma_2^2)$. We want to construct a 100(1-$(\\alpha)$)% confidence interval for the ratio $(\\frac{\\sigma_1^2}{\\sigma_2^2})$ - the ratio of the true population variances.\n",
    "\n",
    "### Steps\n",
    "1. **Estimator**: Use the sample variances $(S_1^2)$ and $(S_2^2)$.\n",
    "2. **Distribution**: The ratio $(\\frac{S_1^2 / \\sigma_1^2}{S_2^2 / \\sigma_2^2})$ follows an F distribution with $(n_1 - 1)$ and $(n_2 - 1)$ degrees of freedom.\n",
    "3. **Critical Values**: Use the F distribution to find the critical values and construct the confidence interval.\n",
    "\n",
    "### R Example\n"
   ]
  },
  {
   "cell_type": "code",
   "execution_count": 2,
   "metadata": {
    "vscode": {
     "languageId": "r"
    }
   },
   "outputs": [
    {
     "name": "stdout",
     "output_type": "stream",
     "text": [
      "99% Confidence Interval for the ratio of variances: [ 0.1867324 ,  2.985823 ]\n"
     ]
    }
   ],
   "source": [
    "# Sample data\n",
    "n1 <- 18\n",
    "n2 <- 15\n",
    "s1_squared <- 15.3\n",
    "s2_squared <- 19.7\n",
    "\n",
    "# F statistic\n",
    "f_statistic <- (s1_squared / s2_squared)\n",
    "\n",
    "# Critical values for 99% confidence interval\n",
    "f_critical_lower <- qf(0.005, df1 = n1 - 1, df2 = n2 - 1)\n",
    "f_critical_upper <- qf(0.995, df1 = n1 - 1, df2 = n2 - 1)\n",
    "\n",
    "# Confidence interval for the ratio of variances\n",
    "lower_bound <- f_statistic / f_critical_upper\n",
    "upper_bound <- f_statistic / f_critical_lower\n",
    "\n",
    "# Output the confidence interval\n",
    "cat(\"99% Confidence Interval for the ratio of variances: [\", lower_bound, \", \", upper_bound, \"]\\n\")"
   ]
  },
  {
   "cell_type": "markdown",
   "metadata": {},
   "source": [
    "# Conclusion\n",
    "We have constructed a confidence interval for the ratio of variances between two populations. If the interval contains 1, it is plausible that the variances are equal. Otherwise, we conclude that the variances are different.\n",
    "\n",
    "### Next Steps\n",
    "\n",
    "- **Section 2** below provides more detail on working with the F Distribution\n",
    "\n",
    "In the next video, we will create confidence intervals from scratch without relying on pre-defined formulas (refer to [mod5_summarytranscript_L4_CIs_WhoNeedsNormality.ipynb](mod5_summarytranscript_L4_CIs_WhoNeedsNormality.ipynb)). This will help us become masters of our own confidence intervals."
   ]
  },
  {
   "cell_type": "markdown",
   "metadata": {},
   "source": [
    "# Looking up critical values for F Distrib in R"
   ]
  },
  {
   "cell_type": "code",
   "execution_count": 9,
   "metadata": {
    "vscode": {
     "languageId": "r"
    }
   },
   "outputs": [
    {
     "data": {
      "text/html": [
       "0.26"
      ],
      "text/latex": [
       "0.26"
      ],
      "text/markdown": [
       "0.26"
      ],
      "text/plain": [
       "[1] 0.26"
      ]
     },
     "metadata": {},
     "output_type": "display_data"
    },
    {
     "data": {
      "text/html": [
       "0.693"
      ],
      "text/latex": [
       "0.693"
      ],
      "text/markdown": [
       "0.693"
      ],
      "text/plain": [
       "[1] 0.693"
      ]
     },
     "metadata": {},
     "output_type": "display_data"
    }
   ],
   "source": [
    "# Sample data\n",
    "n1 <- 18\n",
    "n2 <- 15\n",
    "s1_squared <- 15.3\n",
    "s2_squared <- 19.7\n",
    "\n",
    "# F statistic\n",
    "f_statistic <- (s1_squared / s2_squared)\n",
    "\n",
    "# P-value for the F statistic\n",
    "round(qf(0.005, df1 = n1 - 1, df2 = n2 - 1), 3)\n",
    "\n",
    "round(pf(f_statistic, df1 = n1 - 1, df2 = n2 - 1, lower.tail = FALSE), 3)"
   ]
  },
  {
   "cell_type": "code",
   "execution_count": 10,
   "metadata": {
    "vscode": {
     "languageId": "r"
    }
   },
   "outputs": [
    {
     "data": {
      "text/html": [
       "6.60789097370336"
      ],
      "text/latex": [
       "6.60789097370336"
      ],
      "text/markdown": [
       "6.60789097370336"
      ],
      "text/plain": [
       "[1] 6.607891"
      ]
     },
     "metadata": {},
     "output_type": "display_data"
    },
    {
     "data": {
      "text/html": [
       "0.950001286695628"
      ],
      "text/latex": [
       "0.950001286695628"
      ],
      "text/markdown": [
       "0.950001286695628"
      ],
      "text/plain": [
       "[1] 0.9500013"
      ]
     },
     "metadata": {},
     "output_type": "display_data"
    }
   ],
   "source": [
    "\n",
    "# The inverse functions\n",
    "qf(0.95,1,5)\n",
    "pf(6.608,1,5)\n"
   ]
  },
  {
   "cell_type": "markdown",
   "metadata": {},
   "source": [
    "\n",
    "\n"
   ]
  },
  {
   "cell_type": "markdown",
   "metadata": {},
   "source": [
    "## Section 2: Constructing the PDF\n",
    "Working with the F Distribution requires the Gamma Distribution and its special form, the Chi-Squared\n",
    "\n",
    "The Gamma distribution was first explained in Mod1/L3 Gamma (refer to [Mod1/L3 Gamma](mod1_summarytranscript_L3_gammaDistributions.ipynb))\n",
    "\n",
    "\n",
    "**The summary below captures the key points about the gamma function and the construction of the PDF of an F-Distribution as discussed in the video**:"
   ]
  },
  {
   "cell_type": "markdown",
   "metadata": {},
   "source": [
    "## Gamma Function and F Distribution - PDF Construction with Chi-Squared R.V.\n",
    "\n",
    "### Gamma Function\n",
    "$$\\Gamma(\\alpha) = \\int_0^\\infty x^{\\alpha-1}e^{-x}dx$$\n",
    "- The gamma function $(\\Gamma)$ is an extension of the factorial function to real and complex numbers. \n",
    "- For a positive integer $(n)$, $(\\Gamma(n) = (n-1)!)$. \n",
    "- For a real positive number $(\\alpha)$, it can be written as:\n",
    "$ \\Gamma(\\alpha) = (\\alpha - 1) \\Gamma(\\alpha - 1) $\n",
    "\n",
    "### Constructing the PDF for Chi-Squared\n",
    "To find the expected value of $(1/X)$ where $(X)$ is a chi-squared random variable with $(n)$ degrees of freedom, we use the gamma distribution. The PDF of a chi-squared random variable is a special case of the gamma distribution.\n",
    "\n",
    "1. **Chi-Squared PDF**: The PDF of a chi-squared random variable with $(n)$ degrees of freedom is:\n",
    "$$ f_X(x) = \\frac{1}{2^{n/2} \\Gamma(n/2)} x^{(n/2) - 1} e^{-x/2} $$\n",
    "\n",
    "2. **Expected Value of $(1/X)$**: To find $(E(1/X))$, we integrate:\n",
    "$$ E(1/X) = \\int_0^\\infty \\frac{1}{x} f_X(x) \\, dx $$\n",
    "\n",
    "3. **Combining Terms**: Combine the terms inside the integral to match the form of a gamma PDF:\n",
    "$$ E(1/X) = \\int_0^\\infty \\frac{1}{x} \\frac{1}{2^{n/2} \\Gamma(n/2)} x^{(n/2) - 1} e^{-x/2} \\, dx $$\n",
    "$$ = \\frac{1}{2^{n/2} \\Gamma(n/2)} \\int_0^\\infty x^{(n/2) - 2} e^{-x/2} \\, dx $$\n",
    "\n",
    "4. **Gamma PDF Form**: Recognize that the integrand is the PDF of a gamma distribution with parameters $(n/2 - 1)$ and $(1/2)$:\n",
    "$$ E(1/X) = \\frac{\\Gamma(n/2 - 1)}{\\Gamma(n/2)} $$\n",
    "\n",
    "5. **Simplifying**: Using the properties of the gamma function, simplify the expression:\n",
    "$$ E(1/X) = \\frac{1}{(n/2 - 1)} $$\n",
    "\n",
    "### Conclusion\n",
    "The expected value of $(1/X)$ for a chi-squared random variable $(X)$ with $(n)$ degrees of freedom is:\n",
    "$$ E(1/X) = \\frac{1}{(n/2 - 1)} $$\n",
    "\n",
    "This result is used in constructing the **PDF for the F distribution** and in deriving properties of the F statistic."
   ]
  },
  {
   "cell_type": "markdown",
   "metadata": {},
   "source": [
    "## Next lesson\n",
    "\n",
    "In the next video, we will create confidence intervals from scratch without relying on pre-defined formulas (refer to [mod5_summarytranscript_L4_CIs_WhoNeedsNormality.ipynb](mod5_summarytranscript_L4_CIs_WhoNeedsNormality.ipynb)). This will help us become masters of our own confidence intervals."
   ]
  }
 ],
 "metadata": {
  "kernelspec": {
   "display_name": "R",
   "language": "R",
   "name": "ir"
  },
  "language_info": {
   "codemirror_mode": "r",
   "file_extension": ".r",
   "mimetype": "text/x-r-source",
   "name": "R",
   "pygments_lexer": "r",
   "version": "4.4.1"
  }
 },
 "nbformat": 4,
 "nbformat_minor": 2
}
