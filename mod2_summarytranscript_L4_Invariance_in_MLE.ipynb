{
 "cells": [
  {
   "cell_type": "markdown",
   "metadata": {
    "vscode": {
     "languageId": "r"
    }
   },
   "source": [
    "# Mod2/L4 Invariance Property of Maximum Likelihood Estimators (MLEs)\n",
    "\n",
    "## Introduction\n",
    "In this lesson, we explore the invariance property of Maximum Likelihood Estimators (MLEs). This property is useful when estimating a function of a parameter, such as $(\\sin(\\theta))$ or $(\\theta^2$).\n",
    "\n",
    "## Invariance Property\n",
    "The invariance property states that if $(\\hat{\\theta})$ is the MLE of $(\\theta)$, then $(g(\\hat{\\theta}))$ is the MLE of $(g(\\theta))$ for any function $(g)$.\n",
    "\n",
    "### Example: Estimating $(\\mu^2)$\n",
    "Suppose we have a random sample of size $(n)$ from a distribution with mean $(\\mu)$ and variance $(\\sigma^2)$. We want to estimate $(\\mu^2)$.\n",
    "\n",
    "#### Unbiased Estimator\n",
    "The sample mean $(\\bar{X})$ is an unbiased estimator of $(\\mu)$. However, if we want to estimate $(\\mu^2)$, squaring $(\\bar{X})$ does not yield an unbiased estimator:\n",
    "$$ E(\\bar{X}^2) = \\mu^2 + \\frac{\\sigma^2}{n} $$\n",
    "\n",
    "For large samples, $(\\frac{\\sigma^2}{n})$ approaches zero, making $(\\bar{X}^2)$ asymptotically unbiased.\n",
    "\n",
    "### Example: Exponential Distribution\n",
    "Suppose we have a random sample from the ***exponential distribution*** with rate $(\\lambda)$ and we want to find the MLE of $(\\lambda^2)$.\n",
    "\n",
    "#### Steps to Find MLE\n",
    "1. **Likelihood Function**: \n",
    "   $$ L(\\lambda) = \\lambda^n e^{-\\lambda \\sum X_i} $$\n",
    "2. **Log-Likelihood**:\n",
    "   $$ \\log L(\\lambda) = n \\log \\lambda - \\lambda \\sum X_i $$\n",
    "3. **Maximize Log-Likelihood**:\n",
    "   $$ \\frac{d}{d\\lambda} \\log L(\\lambda) = \\frac{n}{\\lambda} - \\sum X_i = 0 $$\n",
    "   $$ \\hat{\\lambda} = \\frac{n}{\\sum X_i} $$\n",
    "\n",
    "\n",
    "Using the invariance property, the MLE of $(\\lambda^2)$ is:\n",
    "$$ \\hat{\\lambda}^2 = \\left( \\frac{n}{\\sum X_i} \\right)^2 $$\n",
    "\n",
    "### Example in R\n"
   ]
  },
  {
   "cell_type": "code",
   "execution_count": 1,
   "metadata": {
    "vscode": {
     "languageId": "r"
    }
   },
   "outputs": [
    {
     "name": "stdout",
     "output_type": "stream",
     "text": [
      "The MLE for lambda is: 1.91\n",
      "The MLE for lambda^2 is: 3.66\n"
     ]
    }
   ],
   "source": [
    "# Generate a random sample from Exponential distribution\n",
    "set.seed(123)\n",
    "n <- 100\n",
    "lambda_true <- 2\n",
    "sample_data <- rexp(n, rate = lambda_true)\n",
    "\n",
    "# MLE for lambda\n",
    "lambda_hat <- n / sum(sample_data)\n",
    "cat(sprintf(\"The MLE for lambda is: %.2f\\n\", lambda_hat))\n",
    "\n",
    "# MLE for lambda^2 using invariance property\n",
    "lambda_hat_squared <- lambda_hat^2\n",
    "cat(sprintf(\"The MLE for lambda^2 is: %.2f\\n\", lambda_hat_squared))"
   ]
  },
  {
   "cell_type": "markdown",
   "metadata": {
    "vscode": {
     "languageId": "r"
    }
   },
   "source": [
    "## Conclusion\n",
    "The invariance property of MLEs allows us to estimate functions of parameters directly by applying the function to the MLE of the parameter. This property simplifies the estimation process and is widely applicable in statistical inference.\n",
    "\n",
    "This concludes the lesson on the invariance property of MLEs. In the next lessons (refer to [mod2_summarytranscript_L5_MSE_Bias_Efficiency.ipynb](mod2_summarytranscript_L5_MSE_Bias_Efficiency.ipynb)), we will continue to explore more advanced topics and applications of MLE in statistical inference."
   ]
  }
 ],
 "metadata": {
  "kernelspec": {
   "display_name": "R",
   "language": "R",
   "name": "ir"
  },
  "language_info": {
   "codemirror_mode": "r",
   "file_extension": ".r",
   "mimetype": "text/x-r-source",
   "name": "R",
   "pygments_lexer": "r",
   "version": "4.4.1"
  }
 },
 "nbformat": 4,
 "nbformat_minor": 2
}
