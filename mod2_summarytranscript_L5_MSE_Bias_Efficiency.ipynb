{
 "cells": [
  {
   "cell_type": "markdown",
   "metadata": {
    "vscode": {
     "languageId": "r"
    }
   },
   "source": [
    "# Mod2/L5 Mean Squared Error, Bias, and Relative Efficiency\n",
    "\n",
    "## Introduction\n",
    "In this lesson, we explore the concepts of mean squared error (MSE), bias, and relative efficiency. These metrics are useful for comparing the quality of different estimators.\n",
    "\n",
    "## Mean Squared Error (MSE)\n",
    "The mean squared error (MSE) measures the average squared difference between the estimator and the true parameter value. It combines both the variance and the bias of the estimator.\n",
    "\n",
    "### Definition\n",
    "$[ \\text{MSE}(\\hat{\\theta}) = E[(\\hat{\\theta} - \\theta)^2] ]$\n",
    "\n",
    "### Relationship with Variance and Bias\n",
    "For an estimator \\(\\hat{\\theta}\\) of a parameter \\(\\theta\\), the MSE can be decomposed into variance and bias components:\n",
    "$[ \\text{MSE}(\\hat{\\theta}) = \\text{Var}(\\hat{\\theta}) + \\text{Bias}(\\hat{\\theta})^2 ]$\n",
    "\n",
    "### Example in R\n"
   ]
  },
  {
   "cell_type": "code",
   "execution_count": 1,
   "metadata": {
    "vscode": {
     "languageId": "r"
    }
   },
   "outputs": [
    {
     "name": "stdout",
     "output_type": "stream",
     "text": [
      "Mean Squared Error: 0.03\n"
     ]
    }
   ],
   "source": [
    "# Generate a random sample from Normal distribution\n",
    "set.seed(123)\n",
    "n <- 100\n",
    "mu_true <- 5\n",
    "sigma_true <- 2\n",
    "sample_data <- rnorm(n, mean = mu_true, sd = sigma_true)\n",
    "\n",
    "# Estimator: Sample mean\n",
    "sample_mean <- mean(sample_data)\n",
    "\n",
    "# True parameter value\n",
    "theta <- mu_true\n",
    "\n",
    "# Calculate MSE\n",
    "mse <- mean((sample_mean - theta)^2)\n",
    "cat(sprintf(\"Mean Squared Error: %.2f\\n\", mse))"
   ]
  },
  {
   "cell_type": "markdown",
   "metadata": {},
   "source": [
    "## Bias\n",
    "Bias measures the difference between the expected value of the estimator and the true parameter value.\n",
    "\n",
    "### Definition\n",
    "$[ \\text{Bias}(\\hat{\\theta}) = E[\\hat{\\theta}] - \\theta ]$\n",
    "\n",
    "#### Example in R\n"
   ]
  },
  {
   "cell_type": "code",
   "execution_count": 2,
   "metadata": {
    "vscode": {
     "languageId": "r"
    }
   },
   "outputs": [
    {
     "name": "stdout",
     "output_type": "stream",
     "text": [
      "Bias: 0.18\n"
     ]
    }
   ],
   "source": [
    "# Calculate Bias\n",
    "bias <- mean(sample_mean) - theta\n",
    "cat(sprintf(\"Bias: %.2f\\n\", bias))"
   ]
  },
  {
   "cell_type": "markdown",
   "metadata": {},
   "source": [
    "## Relative Efficiency\n",
    "Relative efficiency compares the variances of two unbiased estimators. An estimator with lower variance is considered more efficient.\n",
    "\n",
    "### Definition\n",
    "For two unbiased estimators $(\\hat{\\theta}_1)$ and $(\\hat{\\theta}_2)$: $[ \\text{Relative Efficiency} = \\frac{\\text{Var}(\\hat{\\theta}_2)}{\\text{Var}(\\hat{\\theta}_1)} ]$\n",
    "\n",
    "#### Example in R"
   ]
  },
  {
   "cell_type": "code",
   "execution_count": 3,
   "metadata": {
    "vscode": {
     "languageId": "r"
    }
   },
   "outputs": [
    {
     "name": "stdout",
     "output_type": "stream",
     "text": [
      "Relative Efficiency: 1.20\n"
     ]
    }
   ],
   "source": [
    "# Generate another random sample from Normal distribution\n",
    "set.seed(456)\n",
    "sample_data_2 <- rnorm(n, mean = mu_true, sd = sigma_true)\n",
    "\n",
    "# Estimator: Sample mean\n",
    "sample_mean_2 <- mean(sample_data_2)\n",
    "\n",
    "# Calculate variances\n",
    "var_1 <- var(sample_data)\n",
    "var_2 <- var(sample_data_2)\n",
    "\n",
    "# Calculate Relative Efficiency\n",
    "relative_efficiency <- var_2 / var_1\n",
    "cat(sprintf(\"Relative Efficiency: %.2f\\n\", relative_efficiency))"
   ]
  },
  {
   "cell_type": "markdown",
   "metadata": {},
   "source": [
    "## Conclusion\n",
    "In this lesson, we explored the concepts of mean squared error (MSE), bias, and relative efficiency. These metrics help us compare the quality of different estimators by considering both their variance and bias.\n",
    "\n",
    "This concludes the lesson on MSE, bias, and relative efficiency. In the next lessons (refer to [mod3_summarytranscript_L1_Fisher_CRLB.ipynb](mod3_summarytranscript_L1_Fisher_CRLB.ipynb)), we will continue to explore more advanced topics and applications in statistical inference. "
   ]
  },
  {
   "cell_type": "markdown",
   "metadata": {},
   "source": []
  }
 ],
 "metadata": {
  "kernelspec": {
   "display_name": "R",
   "language": "R",
   "name": "ir"
  },
  "language_info": {
   "codemirror_mode": "r",
   "file_extension": ".r",
   "mimetype": "text/x-r-source",
   "name": "R",
   "pygments_lexer": "r",
   "version": "4.4.1"
  }
 },
 "nbformat": 4,
 "nbformat_minor": 2
}
