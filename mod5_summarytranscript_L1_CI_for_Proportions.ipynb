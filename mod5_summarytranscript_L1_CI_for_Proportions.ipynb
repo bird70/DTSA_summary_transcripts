{
 "cells": [
  {
   "cell_type": "markdown",
   "metadata": {},
   "source": [
    "# Mod5/L1 Confidence Intervals for Proportions\n",
    "\n",
    "## Introduction\n",
    "In this module, we will derive confidence intervals for various distributions and parameters. We will start with confidence intervals for population proportions, involving normality.\n",
    "\n",
    "## Example: Polling Data\n",
    "Consider a random sample of 500 people from a population voting in a national election. We want to construct a 95% confidence interval for the true proportion of people who like candidate A. In our sample, 320 out of 500 people liked candidate A, giving us a sample proportion of 320/500 = 0.64.\n",
    "\n",
    "## Bernoulli Distribution and Sample Mean\n",
    "We model this scenario using a Bernoulli distribution, where each individual either likes candidate A (1) or does not (0). The sample proportion is a sample mean of these Bernoulli trials.\n",
    "\n",
    "## Central Limit Theorem and Normal Distribution\n",
    "By the Central Limit Theorem, the sample mean (proportion) is approximately normally distributed for large samples. The mean of the sample proportion is the true proportion $( P )$, and the variance is $( P(1-P)/N )$.\n",
    "\n",
    "## Calculating Confidence Intervals\n",
    "To construct a confidence interval, we standardize the sample proportion by subtracting the mean and dividing by the standard deviation. This gives us a standard normal variable. For a 95% confidence interval, we use the critical value $( Z_{0.025} )$.\n",
    "\n",
    "## Example Calculation\n",
    "Given our sample proportion of 0.64 and sample size of 500, we calculate the standard deviation as $( \\sqrt{0.64(1-0.64)/500} )$. The 95% confidence interval is then $( 0.64 \\pm Z_{0.025} \\times \\text{standard deviation})$.\n",
    "\n",
    "## Conclusion\n",
    "We estimate the true proportion of people who like candidate A to be between 0.5979 and 0.6821 with 95% confidence. This method can be extended to compare proportions between two populations.\n",
    "\n",
    "## Next Steps\n",
    "In the next video, we will discuss confidence intervals for variances and how to compare variances between two populations."
   ]
  },
  {
   "cell_type": "code",
   "execution_count": 3,
   "metadata": {
    "vscode": {
     "languageId": "r"
    }
   },
   "outputs": [
    {
     "name": "stdout",
     "output_type": "stream",
     "text": [
      "95% Confidence Interval: [ 0.5979269 ,  0.6820731 ]\n"
     ]
    }
   ],
   "source": [
    "\n",
    "### R Example\n",
    "\n",
    "# Sample data\n",
    "sample_size <- 500\n",
    "sample_proportion <- 320 / 500\n",
    "\n",
    "# Standard deviation\n",
    "std_dev <- sqrt(sample_proportion * (1 - sample_proportion) / sample_size)\n",
    "\n",
    "# Critical value for 95% confidence interval\n",
    "z_critical <- qnorm(0.975)\n",
    "\n",
    "# Confidence interval\n",
    "lower_bound <- sample_proportion - z_critical * std_dev\n",
    "upper_bound <- sample_proportion + z_critical * std_dev\n",
    "\n",
    "# Output the confidence interval\n",
    "cat(\"95% Confidence Interval: [\", lower_bound, \", \", upper_bound, \"]\\n\")"
   ]
  },
  {
   "cell_type": "markdown",
   "metadata": {},
   "source": [
    "# Testing that the interval is contained within plus/minus 3 StdDev\n",
    "\n",
    "99.7% of the area under a N(0,1) curve lies between -3 and 3, i.e. 99.7% of the probability for a normal distribution  is  within  3  standard  deviations  of it’s mean.\n",
    "\n",
    "So before reporting our CI, we test that our sample observations are indeed entirely contained in the interval between 0 and 1 [0,1], within 3 SD's of the mean.\n"
   ]
  },
  {
   "cell_type": "markdown",
   "metadata": {},
   "source": []
  },
  {
   "cell_type": "markdown",
   "metadata": {},
   "source": [
    "## Next lesson\n",
    "\n",
    "(refer to [mod5_summarytranscript_L2_CIs_for_Variances.ipynb](mod5_summarytranscript_L2_CIs_for_Variances.ipynb))"
   ]
  },
  {
   "cell_type": "markdown",
   "metadata": {},
   "source": []
  }
 ],
 "metadata": {
  "kernelspec": {
   "display_name": "R",
   "language": "R",
   "name": "ir"
  },
  "language_info": {
   "codemirror_mode": "r",
   "file_extension": ".r",
   "mimetype": "text/x-r-source",
   "name": "R",
   "pygments_lexer": "r",
   "version": "4.4.1"
  }
 },
 "nbformat": 4,
 "nbformat_minor": 2
}
