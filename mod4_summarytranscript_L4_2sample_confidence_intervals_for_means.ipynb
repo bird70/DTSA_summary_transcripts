{
 "cells": [
  {
   "cell_type": "markdown",
   "metadata": {},
   "source": [
    "# Mod4/L4: Two-Sample Confidence Intervals for Means\n",
    "\n",
    "## Introduction\n",
    "In this lesson, we discuss confidence intervals for the difference in means from two different populations.\n",
    "\n",
    "## Setup\n",
    "- **Sample 1**: Size $n_1$, from $N(\\mu_1, \\sigma_1^2)$\n",
    "- **Sample 2**: Size $n_2$, from $N(\\mu_2, \\sigma_2^2)$\n",
    "- Assumptions:\n",
    "  - Samples are independent\n",
    "  - Both $\\sigma_1^2$ and $\\sigma_2^2$ are known\n",
    "\n",
    "## Steps to Find Confidence Interval\n",
    "\n",
    "### Step 1: Estimator\n",
    "A natural estimator for $\\mu_1 - \\mu_2$ is $\\bar{X}_1 - \\bar{X}_2$:\n",
    "$$ \\bar{X}_1 = \\frac{1}{n_1} \\sum_{i=1}^{n_1} X_{1i} $$\n",
    "$$ \\bar{X}_2 = \\frac{1}{n_2} \\sum_{i=1}^{n_2} X_{2i} $$\n",
    "\n",
    "### Step 2: Distribution of Estimator\n",
    "- $\\bar{X}_1 \\sim N(\\mu_1, \\frac{\\sigma_1^2}{n_1})$\n",
    "- $\\bar{X}_2 \\sim N(\\mu_2, \\frac{\\sigma_2^2}{n_2})$\n",
    "- $\\bar{X}_1 - \\bar{X}_2 \\sim N(\\mu_1 - \\mu_2, \\frac{\\sigma_1^2}{n_1} + \\frac{\\sigma_2^2}{n_2})$\n",
    "\n",
    "### Step 3: Standardization\n",
    "Standardize the estimator to a Z-score:\n",
    "$$ Z = \\frac{(\\bar{X}_1 - \\bar{X}_2) - (\\mu_1 - \\mu_2)}{\\sqrt{\\frac{\\sigma_1^2}{n_1} + \\frac{\\sigma_2^2}{n_2}}} \\sim N(0,1) $$\n",
    "\n",
    "### Step 4: Confidence Interval\n",
    "For a $(1-\\alpha)100\\%$ confidence interval:\n",
    "$$ (\\bar{X}_1 - \\bar{X}_2) \\pm Z_{\\alpha/2} \\sqrt{\\frac{\\sigma_1^2}{n_1} + \\frac{\\sigma_2^2}{n_2}} $$\n",
    "\n",
    "## Example\n",
    "### Problem\n",
    "- **Group 1**: 57 students, mean score = 77.2, variance = 15.3\n",
    "- **Group 2**: 63 students, mean score = 75.3, variance = 19.7\n",
    "- Find a 99% confidence interval for the difference in means.\n",
    "\n",
    "### Solution\n",
    "1. **Calculate Critical Value**:\n",
    "   - For 99% CI, $\\alpha = 0.01$\n",
    "   - $Z_{\\alpha/2} = Z_{0.005} = 2.58$\n",
    "\n",
    "2. **Apply Formula**:\n",
    "   $$ (\\bar{X}_1 - \\bar{X}_2) \\pm 2.58 \\sqrt{\\frac{15.3}{57} + \\frac{19.7}{63}} $$\n",
    "   - Point estimate: $77.2 - 75.3 = 1.9$\n",
    "   - Margin of error: $2.58 \\times \\sqrt{\\frac{15.3}{57} + \\frac{19.7}{63}} \\approx 2.56 \\times 0.73 \\approx 1.96$\n",
    "   - Confidence interval: $1.9 \\pm 1.96 = (-0.06, 3.86)$\n",
    "\n",
    "### Interpretation\n",
    "The 99% confidence interval for the difference in means is (0.06, 3.86). Since the interval includes 0, it is plausible that the means are equal. \n",
    "Don't try to change the content  by changing the percentage of ${\\alpha}$ as that would be tampering with the interpretation! \n",
    "\n",
    "## Conclusion\n",
    "- Confidence intervals provide a range of plausible values for the difference in means.\n",
    "- For large samples, normality is not required due to the Central Limit Theorem.\n",
    "- For small samples, special considerations are needed, which will be discussed in the next lesson."
   ]
  },
  {
   "cell_type": "markdown",
   "metadata": {},
   "source": []
  },
  {
   "cell_type": "code",
   "execution_count": 8,
   "metadata": {
    "vscode": {
     "languageId": "r"
    }
   },
   "outputs": [
    {
     "data": {
      "text/html": [
       "1.90000000000001"
      ],
      "text/latex": [
       "1.90000000000001"
      ],
      "text/markdown": [
       "1.90000000000001"
      ],
      "text/plain": [
       "[1] 1.9"
      ]
     },
     "metadata": {},
     "output_type": "display_data"
    },
    {
     "data": {
      "text/html": [
       "2.5758293035489"
      ],
      "text/latex": [
       "2.5758293035489"
      ],
      "text/markdown": [
       "2.5758293035489"
      ],
      "text/plain": [
       "[1] 2.575829"
      ]
     },
     "metadata": {},
     "output_type": "display_data"
    },
    {
     "data": {
      "text/html": [
       "1.9635853852851"
      ],
      "text/latex": [
       "1.9635853852851"
      ],
      "text/markdown": [
       "1.9635853852851"
      ],
      "text/plain": [
       "[1] 1.963585"
      ]
     },
     "metadata": {},
     "output_type": "display_data"
    },
    {
     "data": {
      "text/html": [
       "-0.0635853852850916"
      ],
      "text/latex": [
       "-0.0635853852850916"
      ],
      "text/markdown": [
       "-0.0635853852850916"
      ],
      "text/plain": [
       "[1] -0.06358539"
      ]
     },
     "metadata": {},
     "output_type": "display_data"
    },
    {
     "data": {
      "text/html": [
       "3.8635853852851"
      ],
      "text/latex": [
       "3.8635853852851"
      ],
      "text/markdown": [
       "3.8635853852851"
      ],
      "text/plain": [
       "[1] 3.863585"
      ]
     },
     "metadata": {},
     "output_type": "display_data"
    }
   ],
   "source": [
    "# Point estimate X_bar1 - X_bar2\n",
    "pe <- 77.2 - 75.3\n",
    "pe\n",
    "\n",
    "z<-qnorm(0.995) # 0.995 quantile of standard normal distribution 2.575829\n",
    "z\n",
    "\n",
    "# point estimate + - the following\n",
    "moe<-z * sqrt(15.3/57 + 19.7/63)\n",
    "moe\n",
    "\n",
    "pe - moe\n",
    "pe + moe\n"
   ]
  },
  {
   "cell_type": "code",
   "execution_count": null,
   "metadata": {
    "vscode": {
     "languageId": "r"
    }
   },
   "outputs": [
    {
     "name": "stdout",
     "output_type": "stream",
     "text": [
      "99% CI for μ₁ - μ₂: (-0.06, 3.86)\n"
     ]
    },
    {
     "data": {
      "image/png": "[encoded data removed]",
      "text/plain": [
       "<Figure size 1000x200 with 1 Axes>"
      ]
     },
     "metadata": {},
     "output_type": "display_data"
    }
   ],
   "source": [
    "import numpy as np\n",
    "import matplotlib.pyplot as plt\n",
    "from scipy import stats\n",
    "\n",
    "def two_sample_ci(x1_bar, x2_bar, sigma1_sq, sigma2_sq, n1, n2, alpha=0.05):\n",
    "    \"\"\"Calculate two-sample confidence interval for difference in means\"\"\"\n",
    "    z_crit = stats.norm.ppf(1 - alpha/2)\n",
    "    point_est = x1_bar - x2_bar\n",
    "    margin = z_crit * np.sqrt(sigma1_sq/n1 + sigma2_sq/n2)\n",
    "    return (point_est - margin, point_est + margin)\n",
    "\n",
    "# Example\n",
    "x1_bar, x2_bar = 77.2, 75.3     # sample means\n",
    "sigma1_sq, sigma2_sq = 15.3, 19.7  # variances \n",
    "n1, n2 = 57, 63                  # sample sizes\n",
    "alpha = 0.01                     # 99% CI\n",
    "\n",
    "ci = two_sample_ci(x1_bar, x2_bar, sigma1_sq, sigma2_sq, n1, n2, alpha)\n",
    "print(f\"99% CI for μ₁ - μ₂: ({ci[0]:.2f}, {ci[1]:.2f})\")\n",
    "\n",
    "# Visualize\n",
    "def plot_ci(ci, point_est):\n",
    "    plt.figure(figsize=(10, 2))\n",
    "    plt.plot([ci[0], ci[1]], [1, 1], 'b-', linewidth=2)\n",
    "    plt.plot(point_est, 1, 'ro')\n",
    "    plt.axvline(x=0, color='gray', linestyle='--')\n",
    "    plt.title('Two-Sample Confidence Interval')\n",
    "    plt.show()\n",
    "\n",
    "plot_ci(ci, x1_bar - x2_bar)"
   ]
  },
  {
   "cell_type": "code",
   "execution_count": null,
   "metadata": {
    "vscode": {
     "languageId": "r"
    }
   },
   "outputs": [],
   "source": []
  }
 ],
 "metadata": {
  "kernelspec": {
   "display_name": "R",
   "language": "R",
   "name": "ir"
  },
  "language_info": {
   "codemirror_mode": "r",
   "file_extension": ".r",
   "mimetype": "text/x-r-source",
   "name": "R",
   "pygments_lexer": "r",
   "version": "4.4.1"
  }
 },
 "nbformat": 4,
 "nbformat_minor": 2
}
