{
 "cells": [
  {
   "cell_type": "markdown",
   "metadata": {
    "vscode": {
     "languageId": "r"
    }
   },
   "source": [
    "# Mod1/L6 Variance and Covariance\n",
    "\n",
    "## Introduction\n",
    "In this lesson, we explore the concepts of variance and covariance, which are measures of the spread and relationship between random variables. Understanding these concepts is crucial for statistical analysis and inference.\n",
    "\n",
    "## Variance\n",
    "\n",
    "### Definition\n",
    "Variance measures the spread of a distribution. It quantifies how much the values of a random variable differ from the mean.\n",
    "\n",
    "### Notation\n",
    "- **Variance**: $( {Var}(X) )$ or $( sigma^2 )$\n",
    "- **Formula**: \n",
    "  $[ {Var}(X) = E[(X - mu)^2] ]$\n",
    "  where $( \\mu )$ is the mean of $( X )$.\n",
    "\n",
    "### Example: Variance of a Sample\n",
    "Suppose you are measuring the average height of adult males in France. You take multiple samples and compute the sample mean each time. The variance helps you understand the variability of these sample means.\n",
    "\n",
    "#### Calculation in R\n",
    "```r\n",
    "# Generate a random sample\n",
    "set.seed(123)\n",
    "sample_data <- rnorm(100, mean = 170, sd = 10)\n",
    "\n",
    "# Calculate the sample variance\n",
    "sample_variance <- var(sample_data)\n",
    "cat(sprintf(\"Sample Variance: %.2f\\n\", sample_variance))\n",
    "```\n",
    "\n",
    "\n",
    "## Covariance\n",
    "### Definition\n",
    "Covariance measures the relationship between two random variables. It indicates whether an increase in one variable corresponds to an increase or decrease in another variable.\n",
    "\n",
    "### Notation\n",
    "**Covariance**: $( \\text{Cov}(X, Y) )$\n",
    "**Formula**: $[ \\text{Cov}(X, Y) = E[(X - \\mu_X)(Y - \\mu_Y)] ]$ where $( \\mu_X )$ and $( \\mu_Y )$ are the means of ( X ) and ( Y ), respectively.\n",
    "\n",
    "### Example: Covariance of Two Samples\n",
    "Suppose you are measuring the heights and weights of individuals. Covariance helps you understand the relationship between height and weight.\n",
    "\n",
    "#### Calculation in R"
   ]
  },
  {
   "cell_type": "code",
   "execution_count": 1,
   "metadata": {
    "vscode": {
     "languageId": "r"
    }
   },
   "outputs": [
    {
     "name": "stdout",
     "output_type": "stream",
     "text": [
      "Sample Covariance: -6.56\n"
     ]
    }
   ],
   "source": [
    "# Generate random samples\n",
    "set.seed(123)\n",
    "heights <- rnorm(100, mean = 170, sd = 10)\n",
    "weights <- rnorm(100, mean = 70, sd = 15)\n",
    "\n",
    "# Calculate the sample covariance\n",
    "sample_covariance <- cov(heights, weights)\n",
    "cat(sprintf(\"Sample Covariance: %.2f\\n\", sample_covariance))"
   ]
  },
  {
   "cell_type": "markdown",
   "metadata": {},
   "source": [
    "## Interpretation\n",
    "### Variance\n",
    "**A higher variance indicates greater spread in the data.\n",
    "**A lower variance indicates that the data points are closer to the mean.\n",
    "\n",
    "### Covariance\n",
    "A positive covariance indicates that the variables tend to increase together.\n",
    "A negative covariance indicates that one variable tends to increase when the other decreases.\n",
    "A covariance close to zero indicates no linear relationship between the variables.\n",
    "\n",
    "## Conclusion\n",
    "Variance and covariance are fundamental concepts in statistics that help us understand the spread and relationships between random variables. These measures are essential for various statistical analyses and inferences.\n",
    "\n",
    "This concludes the lesson on variance and covariance. In the next lesson (refer to [mod1_summarytranscript_L7_estimators_distributions.ipynb](mod1_summarytranscript_L7_estimators_distributions.ipynb)), we will explore more advanced topics in statistical inference. "
   ]
  }
 ],
 "metadata": {
  "kernelspec": {
   "display_name": "R",
   "language": "R",
   "name": "ir"
  },
  "language_info": {
   "codemirror_mode": "r",
   "file_extension": ".r",
   "mimetype": "text/x-r-source",
   "name": "R",
   "pygments_lexer": "r",
   "version": "4.4.1"
  }
 },
 "nbformat": 4,
 "nbformat_minor": 2
}
