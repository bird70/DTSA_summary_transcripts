{
 "cells": [
  {
   "cell_type": "markdown",
   "metadata": {},
   "source": [
    "# Mod3/L5 Large Sample Properties of Maximum Likelihood Estimators\n",
    "\n",
    "## Key Properties of Maximum Likelihood Estimators (MLEs)\n",
    "\n",
    "### 1. Existence and Uniqueness\n",
    "- Under regularity conditions, MLEs exist and are unique\n",
    "- Applies to standard distributions, even those not satisfying all regularity conditions\n",
    "\n",
    "### 2. Consistency\n",
    "- MLEs converge in probability to the true parameter value\n",
    "- Makes them consistent estimators\n",
    "\n",
    "### 3. Asymptotic Properties\n",
    "- Asymptotically unbiased\n",
    "- Asymptotically efficient (variance approaches Cramér-Rao lower bound)\n",
    "- Asymptotically normal with correct mean and optimal variance\n",
    "\n",
    "## Example: Exponential Distribution\n",
    "\n",
    "### MLE Properties for Rate Parameter λ\n",
    "1. MLE = 1/X̄\n",
    "2. Expected value = (n/(n-1))λ\n",
    "3. Asymptotically unbiased as n → ∞\n",
    "4. Variance approaches Cramér-Rao lower bound\n",
    "\n",
    "## Special Case: Uniform Distribution\n",
    "\n",
    "### Maximum as MLE for Upper Bound θ\n",
    "1. Y = max(X₁, ..., X₂)\n",
    "2. E[Y] = (n/(n+1))θ\n",
    "3. Asymptotically unbiased\n",
    "4. Variance → 0 as n → ∞\n",
    "\n",
    "## Practical Implications\n",
    "- MLEs are generally reliable for large samples\n",
    "- Asymptotic properties make them valuable for inference\n",
    "- Properties hold even for some non-regular cases\n",
    "\n",
    "## Technical Notes\n",
    "- Proofs require advanced mathematical statistics\n",
    "- Properties rely on regularity conditions\n",
    "- Convergence rates vary by distribution"
   ]
  },
  {
   "cell_type": "markdown",
   "metadata": {},
   "source": [
    "## Next lesson\n",
    "\n",
    "(refer to [mod4_summarytranscript_L1_confidence_intervals_normal.ipynb](mod4_summarytranscript_L1_confidence_intervals_normal.ipynb))"
   ]
  }
 ],
 "metadata": {
  "language_info": {
   "name": "python"
  }
 },
 "nbformat": 4,
 "nbformat_minor": 2
}
