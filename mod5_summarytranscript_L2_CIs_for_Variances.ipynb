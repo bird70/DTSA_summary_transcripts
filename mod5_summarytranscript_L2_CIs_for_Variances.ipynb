{
 "cells": [
  {
   "cell_type": "markdown",
   "metadata": {},
   "source": [
    "# Mod5/L2 Confidence Intervals for Variances\n",
    "\n",
    "## Introduction\n",
    "In this video, we will discuss how to construct confidence intervals for variances $(\\sigma^2)$ and the difference between two population proportions. We will use the skills we have learned so far.\n",
    "\n",
    "## Example: Difference Between Two Population Proportions\n",
    "We have two random samples from different regions of a country undergoing a national election. \n",
    "\n",
    "In the first sample of 500 people, 320 preferred Candidate A. In the second sample of 420 people, 302 preferred Candidate A. \n",
    "\n",
    "We want to construct a confidence interval for the difference between the true proportions $(P_1 - P_2)$.\n",
    "\n",
    "### Steps\n",
    "1. **Estimator**: Use the difference in sample proportions $(\\hat{P}_1 - \\hat{P}_2)$.\n",
    "2. **Distribution**: By the Central Limit Theorem, the sample proportions are approximately normally distributed for large samples.\n",
    "3. **Standardization**: Standardize the difference by subtracting the mean and dividing by the standard deviation.\n",
    "4. **Critical Values**: Use the critical values for the standard normal distribution to construct the confidence interval.\n",
    "\n",
    "### R Example\n"
   ]
  },
  {
   "cell_type": "code",
   "execution_count": 3,
   "metadata": {
    "vscode": {
     "languageId": "r"
    }
   },
   "outputs": [
    {
     "name": "stdout",
     "output_type": "stream",
     "text": [
      "90% Confidence Interval for the difference in proportions: [ -0.129526 ,  -0.02856922 ]\n"
     ]
    }
   ],
   "source": [
    "# Sample data\n",
    "n1 <- 500\n",
    "p1_hat <- 320 / 500\n",
    "n2 <- 420\n",
    "p2_hat <- 302 / 420\n",
    "\n",
    "# Standard deviation\n",
    "std_dev_diff <- sqrt((p1_hat * (1 - p1_hat) / n1) + (p2_hat * (1 - p2_hat) / n2))\n",
    "\n",
    "# Critical value for 90% confidence interval\n",
    "z_critical <- qnorm(0.95)\n",
    "\n",
    "# Confidence interval\n",
    "lower_bound <- (p1_hat - p2_hat) - z_critical * std_dev_diff\n",
    "upper_bound <- (p1_hat - p2_hat) + z_critical * std_dev_diff\n",
    "\n",
    "# Output the confidence interval\n",
    "cat(\"90% Confidence Interval for the difference in proportions: [\", lower_bound, \", \", upper_bound, \"]\\n\")"
   ]
  },
  {
   "cell_type": "markdown",
   "metadata": {},
   "source": [
    "## Interpretation\n",
    "The result indicates that there is indeed a statistically proven difference between the two sample proportions:\n",
    "\n",
    "\"I get negative 0.129 to negative 0.029. One thing this suggests as being an interval of plausible values for the difference P1 minus P2, because this interval\n",
    "doesn't actually contain zero, it's completely in the negatives, it suggests that the true proportions are not quite equal based on this particular sample. \n",
    "\n",
    "It does seem like P2 hat is larger than P1 hat, but previously, we weren't quite sure, how big of a difference we needed to say they were statistically different.\""
   ]
  },
  {
   "cell_type": "markdown",
   "metadata": {},
   "source": [
    "## Example: Variance for a Single Population\n",
    "A potato chip manufacturer wants to ensure that the variance in the weight of 10-ounce bags is small. We take a random sample of 20 bags and find a sample variance of 0.52 ounces. Assuming the weights are normally distributed, we construct a 95% confidence interval for the true standard deviation ((\\sigma)).\n",
    "\n",
    "### Steps\n",
    "**Estimator**: Use the sample standard deviation.\n",
    "\n",
    "**Distribution**: For a normal distribution, $((n-1)s^2/\\sigma^2)$ follows a chi-square distribution with $(n-1)$ degrees of freedom.\n",
    "\n",
    "**Critical Values**: Use the chi-square distribution to find the critical values and construct the confidence interval.\n",
    "\n",
    "#### R Example"
   ]
  },
  {
   "cell_type": "markdown",
   "metadata": {},
   "source": []
  },
  {
   "cell_type": "code",
   "execution_count": 13,
   "metadata": {
    "vscode": {
     "languageId": "r"
    }
   },
   "outputs": [
    {
     "name": "stdout",
     "output_type": "stream",
     "text": [
      "Chi-square critical values for 95% confidence interval:  8.906516 ,  32.85233 \n",
      "Chi-square critical values for first alternative 95% confidence interval:  10.11701 ,  Inf \n",
      "Chi-square critical values for second alternative 95% confidence interval:  0 ,  30.14353 \n",
      "95% Confidence Interval for the standard deviation: [ 0.5483974 ,  1.053233 ]\n",
      "First Alternative 95% Confidence Interval for the standard deviation: [ 0 ,  0.988217 ]\n",
      "Second Alternative 95% Confidence Interval for the standard deviation: [ 0.5725078 ,  Inf ]\n"
     ]
    }
   ],
   "source": [
    "# Sample data\n",
    "n <- 20\n",
    "sample_variance <- 0.52\n",
    "\n",
    "# Chi-square critical values for 95% confidence interval\n",
    "chi2_lower <- qchisq(0.025, df = n - 1)\n",
    "chi2_upper <- qchisq(0.975, df = n - 1)\n",
    "\n",
    "# Chi-square critical values for alternative 95% confidence interval\n",
    "chi2_lower2 <- qchisq(0.05, df = n - 1)\n",
    "chi2_upper2 <- qchisq(1.0, df = n - 1)\n",
    "\n",
    "# Yet another Chi-square critical values for alternative 95% confidence interval\n",
    "chi2_lower3 <- qchisq(0.0, df = n - 1)\n",
    "chi2_upper3 <- qchisq(0.95, df = n - 1)\n",
    "\n",
    "# Output the critical values\n",
    "cat(\"Chi-square critical values for 95% confidence interval: \", chi2_lower, \", \", chi2_upper, \"\\n\")\n",
    "\n",
    "# Output the alternative critical values\n",
    "cat(\"Chi-square critical values for first alternative 95% confidence interval: \", chi2_lower2, \", \", chi2_upper2, \"\\n\")\n",
    "\n",
    "# Output the alternative critical values\n",
    "cat(\"Chi-square critical values for second alternative 95% confidence interval: \", chi2_lower3, \", \", chi2_upper3, \"\\n\")\n",
    "\n",
    "# Confidence interval for variance\n",
    "lower_bound_var <- (n - 1) * sample_variance / chi2_upper\n",
    "upper_bound_var <- (n - 1) * sample_variance / chi2_lower\n",
    "\n",
    "# Confidence interval for standard deviation\n",
    "lower_bound_sd <- sqrt(lower_bound_var)\n",
    "upper_bound_sd <- sqrt(upper_bound_var)\n",
    "\n",
    "# Output the confidence interval\n",
    "cat(\"95% Confidence Interval for the standard deviation: [\", lower_bound_sd, \", \", upper_bound_sd, \"]\\n\")\n",
    "\n",
    "# also calculate the alternative lower and upper bounds and the confidence interval for the alternative critical values\n",
    "lower_bound_var2 <- (n - 1) * sample_variance / chi2_upper2\n",
    "upper_bound_var2 <- (n - 1) * sample_variance / chi2_lower2\n",
    "\n",
    "lower_bound_sd2 <- sqrt(lower_bound_var2)\n",
    "upper_bound_sd2 <- sqrt(upper_bound_var2)\n",
    "\n",
    "cat(\"First Alternative 95% Confidence Interval for the standard deviation: [\", lower_bound_sd2, \", \", upper_bound_sd2, \"]\\n\")\n",
    "\n",
    "# also calculate the alternative lower and upper bounds and the confidence interval for the alternative critical values\n",
    "lower_bound_var3 <- (n - 1) * sample_variance / chi2_upper3\n",
    "upper_bound_var3 <- (n - 1) * sample_variance / chi2_lower3\n",
    "\n",
    "lower_bound_sd3 <- sqrt(lower_bound_var3)\n",
    "upper_bound_sd3 <- sqrt(upper_bound_var3)\n",
    "\n",
    "cat(\"Second Alternative 95% Confidence Interval for the standard deviation: [\", lower_bound_sd3, \", \", upper_bound_sd3, \"]\\n\")\n"
   ]
  },
  {
   "cell_type": "markdown",
   "metadata": {
    "vscode": {
     "languageId": "r"
    }
   },
   "source": [
    "## Conclusion\n",
    "We have constructed confidence intervals for the difference between two population proportions and for the variance of a single population. In the next video (refer to [mod5_summarytranscript_L3_CIs_RatioOfVariances.ipynb](mod5_summarytranscript_L3_CIs_RatioOfVariances.ipynb)), we will compare the true variances for two different populations using a new distribution."
   ]
  }
 ],
 "metadata": {
  "kernelspec": {
   "display_name": "R",
   "language": "R",
   "name": "ir"
  },
  "language_info": {
   "codemirror_mode": "r",
   "file_extension": ".r",
   "mimetype": "text/x-r-source",
   "name": "R",
   "pygments_lexer": "r",
   "version": "4.4.1"
  }
 },
 "nbformat": 4,
 "nbformat_minor": 2
}
